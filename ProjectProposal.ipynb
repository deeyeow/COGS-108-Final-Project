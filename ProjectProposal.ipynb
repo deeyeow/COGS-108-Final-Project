{
 "cells": [
  {
   "cell_type": "markdown",
   "metadata": {},
   "source": [
    "# COGS 108 - Final Project Proposal\n",
    "\n",
    "## Names\n",
    "- Michael Kusnadi\n",
    "- Darren Yau\n",
    "- Tali Edgar\n",
    "- Sharon Edgar\n",
    "- Delaney Leach\n",
    "\n",
    "## Group Members IDs\n",
    "- A15228296\n",
    "- A15070568\n",
    "- A13523070\n",
    "- A12685986\n",
    "- A16119157"
   ]
  },
  {
   "cell_type": "code",
   "execution_count": null,
   "metadata": {},
   "outputs": [],
   "source": []
  }
 ],
 "metadata": {
  "kernelspec": {
   "display_name": "Python 3",
   "language": "python",
   "name": "python3"
  },
  "language_info": {
   "codemirror_mode": {
    "name": "ipython",
    "version": 3
   },
   "file_extension": ".py",
   "mimetype": "text/x-python",
   "name": "python",
   "nbconvert_exporter": "python",
   "pygments_lexer": "ipython3",
   "version": "3.8.3"
  }
 },
 "nbformat": 4,
 "nbformat_minor": 4
}
